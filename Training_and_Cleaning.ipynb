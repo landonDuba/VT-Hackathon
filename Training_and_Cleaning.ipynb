{
 "cells": [
  {
   "cell_type": "code",
   "execution_count": 52,
   "metadata": {},
   "outputs": [],
   "source": [
    "import pandas as pd\n",
    "\n",
    "# Load the CSV file\n",
    "file_path = 'Training_Data.csv'  # Replace with the path to your CSV file\n",
    "data = pd.read_csv(file_path)\n",
    "\n",
    "# Define the columns to drop\n",
    "columns_to_drop = [\n",
    "    'Pass_vehiclenumber', 'Pass_InjuryType', 'Pass_age', 'Pass_gender', 'Pass_Safety_Equip_Used',\n",
    "    'Pass_Airbag_Deployment', 'Pass_Ejected_From_Vehicle', 'Pass_Ems_Transport_Ind', 'Bike_VehicleNumber',\n",
    "    'Bike_InjuryType', 'Bike_Age', 'Bike_Gender', 'Ped_Number', 'Ped_InjuryType', 'PED_Age', 'Ped_Gender',\n",
    "    'Ped_Action', 'Ped_Drink', 'Ped_Cond', 'Ped_Al_Test', 'Ped_Drug', 'Ped_Rflct', 'OBJECTID',\t'Document_Nbr',\t'Crash_Year', 'Second_Crash_Event_Cd', 'Third_Crash_Event_Cd', 'Fourth_Crash_Event_Cd','Local Case CD', 'Comm_Cargo_Body_Type_Cd', 'Comm_Vehicle_Body_Type_Cd'\n",
    "\n",
    "]\n",
    "\n",
    "# Drop the unwanted columns\n",
    "filtered_data = data.drop(columns=columns_to_drop)\n"
   ]
  },
  {
   "cell_type": "code",
   "execution_count": 53,
   "metadata": {},
   "outputs": [],
   "source": [
    "severity_mapping = {'A': 4, 'B': 3, 'C': 2, 'O': 1, 'n/a': 0}\n",
    "filtered_data['Crash_Severity'] = filtered_data['Crash_Severity'].map(severity_mapping).fillna(0)\n",
    "\n",
    "# Handle semicolon-separated values\n",
    "def handle_semicolon_separated(value):\n",
    "    if pd.isna(value):\n",
    "        return 0\n",
    "    first_value = value.split(';')[0]\n",
    "    return first_value if first_value.isnumeric() else 0\n",
    "\n",
    "# Apply to relevant columns that are semicolon-separated\n",
    "semicolon_columns = ['Driver_VehicleNumber', 'Driver_InjuryType', 'Driver_Age', 'Speed_Before', 'Speed_Posted', 'Speed_Max_Safe']\n",
    "for col in semicolon_columns:\n",
    "    filtered_data[col] = filtered_data[col].apply(handle_semicolon_separated).astype(float)\n",
    "\n",
    "# Map categorical columns to numeric values\n",
    "filtered_data['Driver_Gender'] = filtered_data['Driver_Gender'].replace({'Male': 1, 'Female': 0, 'n/a': 0})\n",
    "filtered_data['Driver_Airbag_Deployment'] = filtered_data['Driver_Airbag_Deployment'].replace({'Deployed': 1, 'Not Deployed': 0, 'n/a': 0})\n",
    "filtered_data['Driver_Alcohol_Test_Type_Cd'] = filtered_data['Driver_Alcohol_Test_Type_Cd'].replace({'No Test': 0, 'Positive': 1, 'Negative': -1, 'n/a': 0})\n",
    "filtered_data['Driver_Condition_Type_Cd'] = filtered_data['Driver_Condition_Type_Cd'].replace({'No Defects': 0, 'Under Influence': 1, 'n/a': 0})\n",
    "filtered_data['Driver_Drinking_Type_Cd'] = filtered_data['Driver_Drinking_Type_Cd'].replace({'No Drinking': 0, 'Drinking': 1, 'n/a': 0})\n",
    "filtered_data['Driver_Ejected_From_Vehicle'] = filtered_data['Driver_Ejected_From_Vehicle'].replace({'Not Ejected': 0, 'Ejected': 1, 'n/a': 0})\n",
    "\n",
    "# Handle n/a values\n",
    "def extract_first_number(value):\n",
    "    if pd.isna(value):\n",
    "        return 0\n",
    "    first_part = value.split('.')[0]\n",
    "    if first_part.isnumeric():\n",
    "        return int(first_part)\n",
    "    return 0\n",
    "\n",
    "crash_event_columns = ['First_Crash_Event_Cd']\n",
    "for col in crash_event_columns:\n",
    "    filtered_data[col] = filtered_data[col].apply(extract_first_number)\n",
    "\n"
   ]
  },
  {
   "cell_type": "code",
   "execution_count": 54,
   "metadata": {},
   "outputs": [],
   "source": [
    "filtered_data = filtered_data.drop(columns=['Vehicle_Model_Nm', 'Driver_Alcohol_Test_Type_Cd', 'Vehicle_Year_Nbr', 'Vehicle_Make_Nm'])\n",
    "\n",
    "def extract_first_gender(gender_string):\n",
    "    if isinstance(gender_string, (int, float)):\n",
    "        return gender_string\n",
    "    # If it's NaN, return 0\n",
    "    if pd.isna(gender_string):\n",
    "        return 0\n",
    "    first_gender = gender_string.split(';')[0].strip().lower()\n",
    "    if first_gender == 'male':\n",
    "        return 1\n",
    "    elif first_gender == 'female':\n",
    "        return 0\n",
    "    else:\n",
    "        return 0  \n",
    "\n",
    "filtered_data['Driver_Gender'] = filtered_data['Driver_Gender'].apply(extract_first_gender)\n",
    "\n",
    "# Extract the first number from Driver_Condition_Type_Cd and ignore the words after\n",
    "def extract_first_number(value):\n",
    "    if pd.isna(value):\n",
    "        return 0\n",
    "    first_part = value.split('.')[0]\n",
    "    if first_part.isnumeric():\n",
    "        return int(first_part)\n",
    "    return 0\n",
    "\n",
    "# Apply the function to the 'Driver_Condition_Type_Cd' column\n",
    "filtered_data['Driver_Condition_Type_Cd'] = filtered_data['Driver_Condition_Type_Cd'].apply(extract_first_number)\n",
    "filtered_data['Driver_Action_Type_Cd'] = filtered_data['Driver_Action_Type_Cd'].apply(extract_first_number)\n",
    "filtered_data['Driver_Airbag_Deployment'] = filtered_data['Driver_Airbag_Deployment'].apply(extract_first_number)\n",
    "filtered_data['Driver_Distraction_Type_Cd'] = filtered_data['Driver_Distraction_Type_Cd'].apply(extract_first_number)\n",
    "filtered_data['Most_Harmful_Crash_Event_Cd'] = filtered_data['Most_Harmful_Crash_Event_Cd'].apply(extract_first_number)\n",
    "filtered_data['Vehicle_Maneuver_Type_Cd'] = filtered_data['Vehicle_Maneuver_Type_Cd'].apply(extract_first_number)\n",
    "filtered_data['Vehicle_Body_Type_Cd'] = filtered_data['Vehicle_Body_Type_Cd'].apply(extract_first_number)\n",
    "filtered_data['Driver_Drinking_Type_Cd'] = filtered_data['Driver_Drinking_Type_Cd'].apply(extract_first_number)\n",
    "filtered_data['Driver_Drug_Use_Cd'] = filtered_data['Driver_Drug_Use_Cd'].apply(extract_first_number)\n",
    "filtered_data['Driver_Ejected_From_Vehicle'] = filtered_data['Driver_Ejected_From_Vehicle'].apply(extract_first_number)\n",
    "filtered_data['Driver_Safety_Equip_Used'] = filtered_data['Driver_Safety_Equip_Used'].apply(extract_first_number)\n",
    "filtered_data['Driver_Vis_Obscured_Type_Cd'] = filtered_data['Driver_Vis_Obscured_Type_Cd'].apply(extract_first_number)\n",
    "filtered_data['Summons_Issued_Cd'] = filtered_data['Summons_Issued_Cd'].apply(extract_first_number)\n",
    "\n",
    "\n",
    "\n"
   ]
  },
  {
   "cell_type": "code",
   "execution_count": 55,
   "metadata": {},
   "outputs": [],
   "source": [
    "def translate_yes_no(value):\n",
    "    if pd.isna(value) or value == '':\n",
    "        return 0\n",
    "    first_value = value.split(';')[0].strip().lower()\n",
    "    if first_value == 'yes':\n",
    "        return 1\n",
    "    elif first_value == 'no' or first_value == 'notprovided':\n",
    "        return 0\n",
    "    else:\n",
    "        return 0  \n",
    "def count_vehicles(value):\n",
    "    if pd.isna(value) or value == '':\n",
    "        return 0\n",
    "    return len(value.split(';'))\n",
    "\n",
    "filtered_data['Vehiclenumber'] = filtered_data['Vehiclenumber'].apply(count_vehicles)\n",
    "def extract_first_number(value):\n",
    "    if pd.isna(value):\n",
    "        return 0\n",
    "    first_part = value.split(';')[0]\n",
    "    if first_part.isnumeric():\n",
    "        return int(first_part)\n",
    "    return 0\n",
    "\n",
    "filtered_data['Initial_Veh_Impact_Area_Cd'] = filtered_data['Initial_Veh_Impact_Area_Cd'].apply(extract_first_number)\n",
    "\n",
    "# Function to extract the first direction and map to numeric values\n",
    "direction_mapping = {'north': 1, 'east': 2, 'south': 3, 'west': 4, 'n/a': 0}\n",
    "\n",
    "def extract_first_direction(value):\n",
    "    if pd.isna(value):\n",
    "        return 0\n",
    "    first_direction = value.split(';')[0].strip().lower()\n",
    "    return direction_mapping.get(first_direction, 0)\n",
    "\n",
    "# Apply the function to 'Direction_Of_Travel_Cd' column\n",
    "filtered_data['Direction_Of_Travel_Cd'] = filtered_data['Direction_Of_Travel_Cd'].apply(extract_first_direction)\n",
    "filtered_data['Driver_Ems_Transport_Ind'] = filtered_data['Driver_Ems_Transport_Ind'].apply(translate_yes_no)\n",
    "filtered_data['Driver_Fled_Scene_Ind'] = filtered_data['Driver_Fled_Scene_Ind'].apply(translate_yes_no)"
   ]
  },
  {
   "cell_type": "code",
   "execution_count": 56,
   "metadata": {},
   "outputs": [],
   "source": [
    "output_file_path = 'Cleaned_Training_Data.csv'  # You can specify a different path or filename if needed\n",
    "filtered_data.to_csv(output_file_path, index=False)"
   ]
  },
  {
   "cell_type": "code",
   "execution_count": 57,
   "metadata": {},
   "outputs": [
    {
     "name": "stdout",
     "output_type": "stream",
     "text": [
      "Requirement already satisfied: scikit-learn in c:\\users\\nathan cheng\\appdata\\local\\programs\\python\\python39\\lib\\site-packages (1.5.2)\n",
      "Requirement already satisfied: scipy>=1.6.0 in c:\\users\\nathan cheng\\appdata\\local\\programs\\python\\python39\\lib\\site-packages (from scikit-learn) (1.13.1)\n",
      "Requirement already satisfied: numpy>=1.19.5 in c:\\users\\nathan cheng\\appdata\\local\\programs\\python\\python39\\lib\\site-packages (from scikit-learn) (1.22.4)\n",
      "Requirement already satisfied: joblib>=1.2.0 in c:\\users\\nathan cheng\\appdata\\local\\programs\\python\\python39\\lib\\site-packages (from scikit-learn) (1.4.2)\n",
      "Requirement already satisfied: threadpoolctl>=3.1.0 in c:\\users\\nathan cheng\\appdata\\local\\programs\\python\\python39\\lib\\site-packages (from scikit-learn) (3.5.0)\n"
     ]
    },
    {
     "name": "stderr",
     "output_type": "stream",
     "text": [
      "WARNING: You are using pip version 21.1.3; however, version 24.2 is available.\n",
      "You should consider upgrading via the 'c:\\users\\nathan cheng\\appdata\\local\\programs\\python\\python39\\python.exe -m pip install --upgrade pip' command.\n"
     ]
    }
   ],
   "source": [
    "!pip install scikit-learn"
   ]
  },
  {
   "cell_type": "code",
   "execution_count": 59,
   "metadata": {},
   "outputs": [
    {
     "name": "stdout",
     "output_type": "stream",
     "text": [
      "Mean Squared Error: 332.220649\n",
      "                        Feature  Importance\n",
      "3                    Driver_Age    0.184793\n",
      "20                 Speed_Before    0.085149\n",
      "5         Driver_Action_Type_Cd    0.073559\n",
      "22               Speed_Max_Safe    0.059704\n",
      "25   Initial_Veh_Impact_Area_Cd    0.057389\n",
      "21                 Speed_Posted    0.054320\n",
      "26       Direction_Of_Travel_Cd    0.050126\n",
      "19     Vehicle_Maneuver_Type_Cd    0.048681\n",
      "18         Vehicle_Body_Type_Cd    0.043910\n",
      "24  Most_Harmful_Crash_Event_Cd    0.040694\n",
      "6      Driver_Airbag_Deployment    0.039088\n",
      "0                Crash_Severity    0.033763\n",
      "8    Driver_Distraction_Type_Cd    0.029892\n",
      "23         First_Crash_Event_Cd    0.026446\n",
      "16            Summons_Issued_Cd    0.025480\n",
      "17                Vehiclenumber    0.024234\n",
      "4                 Driver_Gender    0.021291\n",
      "9       Driver_Drinking_Type_Cd    0.021083\n",
      "15  Driver_Vis_Obscured_Type_Cd    0.019911\n",
      "10           Driver_Drug_Use_Cd    0.019545\n",
      "14     Driver_Safety_Equip_Used    0.015222\n",
      "7      Driver_Condition_Type_Cd    0.012357\n",
      "12     Driver_Ems_Transport_Ind    0.009383\n",
      "13        Driver_Fled_Scene_Ind    0.002903\n",
      "11  Driver_Ejected_From_Vehicle    0.001078\n",
      "1          Driver_VehicleNumber    0.000000\n",
      "2             Driver_InjuryType    0.000000\n"
     ]
    },
    {
     "data": {
      "text/plain": [
       "['random_forest_model.pkl']"
      ]
     },
     "execution_count": 59,
     "metadata": {},
     "output_type": "execute_result"
    }
   ],
   "source": [
    "import pandas as pd\n",
    "from sklearn.ensemble import RandomForestRegressor\n",
    "from sklearn.model_selection import train_test_split\n",
    "from sklearn.metrics import mean_squared_error\n",
    "\n",
    "\n",
    "file_path = 'Cleaned_Training_Data.csv' \n",
    "data = pd.read_csv(file_path)\n",
    "data = data.drop(columns=['Route or Street Name'])\n",
    "\n",
    "#Separate the features (X) and the target (y)\n",
    "X = data.drop(columns=['Rating']) \n",
    "y = data['Rating']  # Target is the 'Rating' column\n",
    "\n",
    "#Split the data into training and testing sets (80% training, 20% testing)\n",
    "X_train, X_test, y_train, y_test = train_test_split(X, y, test_size=0.2, random_state=42)\n",
    "\n",
    "#Train a Random Forest model\n",
    "rf_model = RandomForestRegressor(n_estimators=100, random_state=42)\n",
    "rf_model.fit(X_train, y_train)\n",
    "\n",
    "#Make predictions on the test set\n",
    "y_pred = rf_model.predict(X_test)\n",
    "\n",
    "#Evaluate the model using Mean Squared Error (MSE)\n",
    "mse = mean_squared_error(y_test, y_pred)\n",
    "print(f\"Mean Squared Error: {mse}\")\n",
    "\n",
    "#Display the feature importances\n",
    "importances = rf_model.feature_importances_\n",
    "feature_names = X.columns\n",
    "feature_importances = pd.DataFrame({'Feature': feature_names, 'Importance': importances})\n",
    "print(feature_importances.sort_values(by='Importance', ascending=False))\n",
    "\n",
    "import joblib\n",
    "joblib.dump(rf_model, 'random_forest_model.pkl')"
   ]
  },
  {
   "cell_type": "code",
   "execution_count": 60,
   "metadata": {},
   "outputs": [
    {
     "name": "stdout",
     "output_type": "stream",
     "text": [
      "R-squared: -0.09329717208388844\n",
      "Mean Squared Error: 332.220649\n"
     ]
    }
   ],
   "source": [
    "from sklearn.metrics import r2_score, mean_squared_error\n",
    "\n",
    "y_pred = rf_model.predict(X_test)\n",
    "\n",
    "r2 = r2_score(y_test, y_pred)\n",
    "mse = mean_squared_error(y_test, y_pred)\n",
    "\n",
    "print(f\"R-squared: {r2}\")\n",
    "print(f\"Mean Squared Error: {mse}\")"
   ]
  }
 ],
 "metadata": {
  "kernelspec": {
   "display_name": "Python 3",
   "language": "python",
   "name": "python3"
  },
  "language_info": {
   "codemirror_mode": {
    "name": "ipython",
    "version": 3
   },
   "file_extension": ".py",
   "mimetype": "text/x-python",
   "name": "python",
   "nbconvert_exporter": "python",
   "pygments_lexer": "ipython3",
   "version": "3.9.6"
  }
 },
 "nbformat": 4,
 "nbformat_minor": 2
}
